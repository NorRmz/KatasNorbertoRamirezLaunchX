{
 "cells": [
  {
   "cell_type": "code",
   "execution_count": 5,
   "metadata": {},
   "outputs": [
    {
     "name": "stdout",
     "output_type": "stream",
     "text": [
      "8\n",
      "9\n"
     ]
    }
   ],
   "source": [
    "planetas = ['Mercury', 'Venus', 'Earth', 'Mars', 'Jupiter', 'Saturn', 'Uranus', 'Neptune']\n",
    "numplanetas = len(planetas)\n",
    "print(numplanetas)\n",
    "planetas.append('Pluton')\n",
    "numplanetas = len(planetas)\n",
    "print(numplanetas)\n",
    "\n",
    "print('existen',numplanetas, 'planetas en el año 2022\\n')\n",
    "print('el ultimo es', planetas[-1])}"
   ]
  },
  {
   "cell_type": "code",
   "execution_count": 6,
   "metadata": {},
   "outputs": [
    {
     "name": "stdout",
     "output_type": "stream",
     "text": [
      "El nuevo planeta esta en la posición 4\n",
      "numeros de planetas antes del ingresado 3\n",
      "nombres de planetas  antes del ingresado ['Mercury', 'Venus', 'Earth']\n",
      "numeros de planetas despues del ingresado 3\n",
      "nombres de planetas despues del ingresado ['Jupiter', 'Saturn', 'Neptune']\n"
     ]
    }
   ],
   "source": [
    "planets = ['Mercury', 'Venus', 'Earth', 'Mars', 'Jupiter', 'Saturn', 'Neptune']\n",
    "number_of_planets = len(planets)\n",
    "nuevoplaneta= input(\"introduce un nuevo planeta la primer letra en mayuscula\")\n",
    "newplanet_index = planets.index(nuevoplaneta)\n",
    "print('El nuevo planeta esta en la posición', newplanet_index + 1)\n",
    "planetasantes = planets[0:newplanet_index]\n",
    "planetasdespues=planets[newplanet_index+1:]\n",
    "print('numeros de planetas antes del ingresado', newplanet_index)\n",
    "print('nombres de planetas  antes del ingresado', planetasantes)\n",
    "\n",
    "print('numeros de planetas despues del ingresado', number_of_planets-newplanet_index-1)\n",
    "print('nombres de planetas despues del ingresado', planetasdespues)"
   ]
  }
 ],
 "metadata": {
  "interpreter": {
   "hash": "42002bba4a0c3399bba5fdd50d6066528848a56a9a37957f736b934317a9c854"
  },
  "kernelspec": {
   "display_name": "Python 3.10.2 64-bit",
   "language": "python",
   "name": "python3"
  },
  "language_info": {
   "codemirror_mode": {
    "name": "ipython",
    "version": 3
   },
   "file_extension": ".py",
   "mimetype": "text/x-python",
   "name": "python",
   "nbconvert_exporter": "python",
   "pygments_lexer": "ipython3",
   "version": "3.10.2"
  },
  "orig_nbformat": 4
 },
 "nbformat": 4,
 "nbformat_minor": 2
}
