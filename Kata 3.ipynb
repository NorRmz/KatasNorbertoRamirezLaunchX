{
 "cells": [
  {
   "cell_type": "code",
   "execution_count": 15,
   "metadata": {},
   "outputs": [
    {
     "name": "stdout",
     "output_type": "stream",
     "text": [
      "todo Ok\n"
     ]
    }
   ],
   "source": [
    "velasteroide=20 #km/h\n",
    "\n",
    "if velasteroide>25:\n",
    "    print(\"Un asteroide se acerca a alta velocidad:\", velasteroide, \"km/s\")\n",
    "else:\n",
    "    print(\"todo Ok\")"
   ]
  },
  {
   "cell_type": "code",
   "execution_count": 17,
   "metadata": {},
   "outputs": [
    {
     "name": "stdout",
     "output_type": "stream",
     "text": [
      "se ve un destello\n"
     ]
    }
   ],
   "source": [
    "velasteroide=20 #km/h\n",
    "\n",
    "if velasteroide>=20:\n",
    "    print(\"Se ve un destello\")\n",
    "else:\n",
    "    print(\"Nada\")"
   ]
  },
  {
   "cell_type": "code",
   "execution_count": 22,
   "metadata": {},
   "outputs": [
    {
     "name": "stdout",
     "output_type": "stream",
     "text": [
      "no hay nada\n"
     ]
    }
   ],
   "source": [
    "tamanoasteroide=150\n",
    "velasteroide=2 #km/h\n",
    "\n",
    "if tamanoasteroide>25 and velasteroide>25:\n",
    "    print(\"vamos a morir\")\n",
    "elif velasteroide>=20:\n",
    "    print(\"Se ve una luz en el cielo\")\n",
    "elif tamanoasteroide<20:\n",
    "    print(\"No hay nada\")\n",
    "else:\n",
    "    print(\"no hay nada\")\n"
   ]
  }
 ],
 "metadata": {
  "interpreter": {
   "hash": "42002bba4a0c3399bba5fdd50d6066528848a56a9a37957f736b934317a9c854"
  },
  "kernelspec": {
   "display_name": "Python 3.10.2 64-bit",
   "language": "python",
   "name": "python3"
  },
  "language_info": {
   "codemirror_mode": {
    "name": "ipython",
    "version": 3
   },
   "file_extension": ".py",
   "mimetype": "text/x-python",
   "name": "python",
   "nbconvert_exporter": "python",
   "pygments_lexer": "ipython3",
   "version": "3.10.2"
  },
  "orig_nbformat": 4
 },
 "nbformat": 4,
 "nbformat_minor": 2
}
