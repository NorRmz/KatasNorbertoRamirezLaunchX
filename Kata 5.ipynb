{
 "cells": [
  {
   "cell_type": "code",
   "execution_count": 2,
   "metadata": {},
   "outputs": [
    {
     "name": "stdout",
     "output_type": "stream",
     "text": [
      "distancia en km 628949330\n",
      "distancia en millas 390577533.93\n"
     ]
    }
   ],
   "source": [
    "tierra= 149597870\n",
    "jupiter= 778547200\n",
    "\n",
    "distancia=abs(tierra-jupiter)\n",
    "print(\"distancia en km %d\" %distancia)\n",
    "print(\"distancia en millas\",distancia*0.621)"
   ]
  },
  {
   "cell_type": "code",
   "execution_count": 3,
   "metadata": {},
   "outputs": [
    {
     "name": "stdout",
     "output_type": "stream",
     "text": [
      "sol y pluton 1000 sol y kripton 2342324\n",
      "distancia en km 2341324\n",
      "distancia en millas 1453962\n"
     ]
    }
   ],
   "source": [
    "solypluton=abs(int(input(\"distancia entre sol y pluton\")))\n",
    "\n",
    "solykripton=abs(int(input(\"distancia entre sol y kripton\")))\n",
    "\n",
    "print('sol y pluton %i sol y kripton %i' %(solypluton,solykripton))\n",
    "\n",
    "distancia=abs(solypluton-solykripton)\n",
    "print(\"distancia en km %d\" %(distancia))\n",
    "\n",
    "print(\"distancia en millas %d\" %(distancia*0.621))"
   ]
  }
 ],
 "metadata": {
  "interpreter": {
   "hash": "42002bba4a0c3399bba5fdd50d6066528848a56a9a37957f736b934317a9c854"
  },
  "kernelspec": {
   "display_name": "Python 3.10.2 64-bit",
   "language": "python",
   "name": "python3"
  },
  "language_info": {
   "codemirror_mode": {
    "name": "ipython",
    "version": 3
   },
   "file_extension": ".py",
   "mimetype": "text/x-python",
   "name": "python",
   "nbconvert_exporter": "python",
   "pygments_lexer": "ipython3",
   "version": "3.10.2"
  },
  "orig_nbformat": 4
 },
 "nbformat": 4,
 "nbformat_minor": 2
}
