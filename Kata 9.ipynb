{
 "cells": [
  {
   "cell_type": "code",
   "execution_count": 60,
   "metadata": {},
   "outputs": [],
   "source": [
    "def tqcombustible(a,b,c):\n",
    "    promedio=fcpromedio([a,b,c])\n",
    "    print(f\"\"\"El promedio de combustible es {promedio} litros\n",
    "    El tanque 1 tiene {a} litros\n",
    "    El tanque 2 tiene {b} litros\n",
    "    El tanque 3 tiene {3} litros\n",
    "    \"\"\")\n"
   ]
  },
  {
   "cell_type": "code",
   "execution_count": 63,
   "metadata": {},
   "outputs": [
    {
     "name": "stdout",
     "output_type": "stream",
     "text": [
      "El promedio de combustible es 24.666666666666668 litros\n",
      "    El tanque 1 tiene 12 litros\n",
      "    El tanque 2 tiene 12 litros\n",
      "    El tanque 3 tiene 3 litros\n",
      "    \n"
     ]
    }
   ],
   "source": [
    "    >>> tqcombustible (12,12,50)"
   ]
  },
  {
   "cell_type": "code",
   "execution_count": 50,
   "metadata": {},
   "outputs": [],
   "source": [
    "def fcpromedio (valores):\n",
    "    total=sum(valores)\n",
    "    numerovalores=len(valores)\n",
    "    prom=total/numerovalores\n",
    "    return prom"
   ]
  },
  {
   "cell_type": "code",
   "execution_count": 67,
   "metadata": {},
   "outputs": [
    {
     "data": {
      "text/plain": [
       "83.66666666666667"
      ]
     },
     "execution_count": 67,
     "metadata": {},
     "output_type": "execute_result"
    }
   ],
   "source": [
    "\n",
    ">>> fcpromedio([85, 85, 81]) \n"
   ]
  },
  {
   "cell_type": "code",
   "execution_count": 119,
   "metadata": {},
   "outputs": [],
   "source": [
    "def reportedevuelo(Pretiempo, timevuelo, destino, tanqueexterno, tankinterno):\n",
    "    print (f\"\"\"\n",
    "    Vuelo a {destino}\n",
    "    Tiempo total de vuelo: {Pretiempo + timevuelo} minutos\n",
    "    Volumen de combustible restante: {tanqueexterno + tankinterno} litros\n",
    "    \"\"\")"
   ]
  },
  {
   "cell_type": "code",
   "execution_count": 118,
   "metadata": {},
   "outputs": [
    {
     "name": "stdout",
     "output_type": "stream",
     "text": [
      "\n",
      "    Vuelo a moon\n",
      "    Tiempo total de vuelo: 65 minutos\n",
      "    Volumen de combustible restante: 500000 litros\n",
      "    \n"
     ]
    }
   ],
   "source": [
    ">>> reportedevuelo(14, 51, 'moon', 200000, 300000)"
   ]
  },
  {
   "cell_type": "code",
   "execution_count": 123,
   "metadata": {},
   "outputs": [
    {
     "name": "stdout",
     "output_type": "stream",
     "text": [
      "\n",
      "    Viaje a Tierra\n",
      "    Tiempo total de viaje: 76 minutes\n",
      "    Combustible total: 500000\n",
      "    \n"
     ]
    }
   ],
   "source": [
    "def reportemision(destino, *minutes, **fuel_reservoirs):\n",
    "    return f\"\"\"\n",
    "    Viaje a {destino}\n",
    "    Tiempo total de viaje: {sum(minutes)} minutes\n",
    "    Combustible total: {sum(fuel_reservoirs.values())}\n",
    "    \"\"\"\n",
    "\n",
    "print(reportemision(\"Tierra\", 10, 15, 51, main=300000, external=200000))"
   ]
  },
  {
   "cell_type": "code",
   "execution_count": 138,
   "metadata": {},
   "outputs": [
    {
     "name": "stdout",
     "output_type": "stream",
     "text": [
      "\n",
      "    Viaje a Moon\n",
      "    Tiempo total de viaje: 74 minutes\n",
      "    Combustible total: 505822\n",
      "    main tank --> 300000 litros disponibles \n",
      "external tank --> 200000 litros disponibles \n",
      "medio tank --> 5822 litros disponibles \n",
      "\n"
     ]
    }
   ],
   "source": [
    "def reportemision(destino, *minutes, **fuel_reservoirs):\n",
    "    main_report = f\"\"\"\n",
    "    Viaje a {destino}\n",
    "    Tiempo total de viaje: {sum(minutes)} minutes\n",
    "    Combustible total: {sum(fuel_reservoirs.values())}\n",
    "    \"\"\"\n",
    "    for nombretanque, liters in fuel_reservoirs.items():\n",
    "        main_report += f'{nombretanque} tank --> {liters} litros disponibles \\n'\n",
    "    return main_report\n",
    "\n",
    "print(reportemision(\"Moon\", 8, 11, 55, main=300000, external=200000, medio=5822))"
   ]
  }
 ],
 "metadata": {
  "interpreter": {
   "hash": "619c33bb87dee46e24ac1cca0b90709446d3a9c0a6ec6c9aa38c88fecf84a9a5"
  },
  "kernelspec": {
   "display_name": "Python 3.10.2 64-bit",
   "language": "python",
   "name": "python3"
  },
  "language_info": {
   "codemirror_mode": {
    "name": "ipython",
    "version": 3
   },
   "file_extension": ".py",
   "mimetype": "text/x-python",
   "name": "python",
   "nbconvert_exporter": "python",
   "pygments_lexer": "ipython3",
   "version": "3.10.2"
  },
  "orig_nbformat": 4
 },
 "nbformat": 4,
 "nbformat_minor": 2
}
