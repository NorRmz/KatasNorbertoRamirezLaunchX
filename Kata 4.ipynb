{
 "cells": [
  {
   "cell_type": "code",
   "execution_count": 8,
   "metadata": {},
   "outputs": [
    {
     "name": "stdout",
     "output_type": "stream",
     "text": [
      "['interesting facts about the moon', \" the moon is earth's only satellite\", ' there are several interesting facts about the moon and how it affects life here on earth', ' \\non average, the moon moves 4 cm away from the earth every year', ' this yearly drift is not significant enough to cause immediate effects on earth', ' the highest daylight temperature of the moon is 127 c', '']\n"
     ]
    }
   ],
   "source": [
    "texto = \"\"\"Interesting facts about the Moon. The Moon is Earth's only satellite. There are several interesting facts about the Moon and how it affects life here on Earth. \n",
    "On average, the Moon moves 4 cm away from the Earth every year. This yearly drift is not significant enough to cause immediate effects on Earth. The highest daylight temperature of the Moon is 127 C.\"\"\"\n",
    "txtdividido= text.split('.')\n",
    "print(txtdividido)"
   ]
  },
  {
   "cell_type": "code",
   "execution_count": 10,
   "metadata": {},
   "outputs": [
    {
     "name": "stdout",
     "output_type": "stream",
     "text": [
      " \n",
      "on average, the moon moves 4 Celsiusm away from the earth every year\n",
      " the highest daylight temperature of the moon is 127 Celsius\n"
     ]
    }
   ],
   "source": [
    "texto = \"\"\"Interesting facts about the Moon. The Moon is Earth's only satellite. There are several interesting facts about the Moon and how it affects life here on Earth. \n",
    "On average, the Moon moves 4 cm away from the Earth every year. This yearly drift is not significant enough to cause immediate effects on Earth. The highest daylight temperature of the Moon is 127 C.\"\"\".lower()\n",
    "txtdividido= text.split('.')\n",
    "\n",
    "palabrasclave=[\"average\",\"temperature\",\"distance\"]\n",
    "\n",
    "for sentence in txtdividido:\n",
    "    for key_word in palabrasclave:\n",
    "        if key_word in sentence:\n",
    "            print(sentence.replace(' c', ' Celsius'))\n",
    "            break"
   ]
  },
  {
   "cell_type": "code",
   "execution_count": 15,
   "metadata": {},
   "outputs": [
    {
     "name": "stdout",
     "output_type": "stream",
     "text": [
      "Datos de la gravedad en el planeta Earth\n",
      "----------------------------------------------------\n",
      "Nombre del planeta Moon\n",
      "La gravedad en Moon es de 1.6199999999999999 m/s\n"
     ]
    }
   ],
   "source": [
    "name = \"Moon\"\n",
    "gravity = 0.00162 # in km/s\n",
    "planet = \"Earth\"\n",
    "\n",
    "print('Datos de la gravedad en el planeta', planet)\n",
    "print('----------------------------------------------------')\n",
    "print('Nombre del planeta', name)\n",
    "print('La gravedad en',name,'es de',gravity*1000, 'm/s')"
   ]
  },
  {
   "cell_type": "code",
   "execution_count": 17,
   "metadata": {},
   "outputs": [
    {
     "name": "stdout",
     "output_type": "stream",
     "text": [
      "Datos de la gravedad en el planeta Marte\n",
      "----------------------------------------------------\n",
      "Nombre del planeta Genimades\n",
      "La gravedad en Genimades es de 1.4300000000000002 m/s\n"
     ]
    }
   ],
   "source": [
    "name = \"Genimades\"\n",
    "gravity = 0.00143 # in km/s\n",
    "planet = \"Marte\"\n",
    "\n",
    "print('Datos de la gravedad en el planeta', planet)\n",
    "print('----------------------------------------------------')\n",
    "print('Nombre del planeta', name)\n",
    "print('La gravedad en',name,'es de',gravity*1000, 'm/s')"
   ]
  }
 ],
 "metadata": {
  "interpreter": {
   "hash": "42002bba4a0c3399bba5fdd50d6066528848a56a9a37957f736b934317a9c854"
  },
  "kernelspec": {
   "display_name": "Python 3.10.2 64-bit",
   "language": "python",
   "name": "python3"
  },
  "language_info": {
   "codemirror_mode": {
    "name": "ipython",
    "version": 3
   },
   "file_extension": ".py",
   "mimetype": "text/x-python",
   "name": "python",
   "nbconvert_exporter": "python",
   "pygments_lexer": "ipython3",
   "version": "3.10.2"
  },
  "orig_nbformat": 4
 },
 "nbformat": 4,
 "nbformat_minor": 2
}
