{
 "cells": [
  {
   "cell_type": "code",
   "execution_count": 23,
   "metadata": {},
   "outputs": [
    {
     "name": "stdout",
     "output_type": "stream",
     "text": [
      "Mars\n",
      "la circunferencia polar de Mars es 6752 km\n"
     ]
    }
   ],
   "source": [
    "planet = {\n",
    "    'name': 'Mars',\n",
    "    'moons': 2\n",
    "}\n",
    "print(planet['name'])\n",
    "\n",
    "planet['polar']=6752\n",
    "planet['equatorial']=6792\n",
    "\n",
    "print(f\"la circunferencia polar de {planet['name']} es {planet['polar']} km\")"
   ]
  },
  {
   "cell_type": "code",
   "execution_count": 24,
   "metadata": {},
   "outputs": [
    {
     "name": "stdout",
     "output_type": "stream",
     "text": [
      "numero de planetas 12\n",
      "numero de lunas 214\n",
      "el numero promedio de lunas son 17.833333333333332\n"
     ]
    }
   ],
   "source": [
    "total_moons=0\n",
    "planet_moons = {\n",
    "    'mercury': 0,\n",
    "    'venus': 0,\n",
    "    'earth': 1,\n",
    "    'mars': 2,\n",
    "    'jupiter': 79,\n",
    "    'saturn': 82,\n",
    "    'uranus': 27,\n",
    "    'neptune': 14,\n",
    "    'pluto': 5,\n",
    "    'haumea': 2,\n",
    "    'makemake': 1,\n",
    "    'eris': 1\n",
    "}\n",
    "\n",
    "\n",
    "planetas = len(planet_moons.keys())\n",
    "print(f\"numero de planetas {planetas}\")\n",
    "\n",
    "for value in planet_moons.values():\n",
    "    total_moons=total_moons+value\n",
    "print(f\"numero de lunas {total_moons}\")\n",
    "\n",
    "promedio=total_moons/planetas\n",
    "\n",
    "print(f\"el numero promedio de lunas son {promedio}\")"
   ]
  }
 ],
 "metadata": {
  "interpreter": {
   "hash": "42002bba4a0c3399bba5fdd50d6066528848a56a9a37957f736b934317a9c854"
  },
  "kernelspec": {
   "display_name": "Python 3.10.2 64-bit",
   "language": "python",
   "name": "python3"
  },
  "language_info": {
   "codemirror_mode": {
    "name": "ipython",
    "version": 3
   },
   "file_extension": ".py",
   "mimetype": "text/x-python",
   "name": "python",
   "nbconvert_exporter": "python",
   "pygments_lexer": "ipython3",
   "version": "3.10.2"
  },
  "orig_nbformat": 4
 },
 "nbformat": 4,
 "nbformat_minor": 2
}
